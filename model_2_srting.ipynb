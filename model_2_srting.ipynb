{
 "cells": [
  {
   "cell_type": "code",
   "execution_count": null,
   "id": "15cd13b3",
   "metadata": {},
   "outputs": [],
   "source": [
    "# write a python program to check if a number is positive,negative or zero.\n",
    "print('enter the number:')\n",
    "v=int(input())\n",
    "if v>0:\n",
    "    print('positive')\n",
    "elif v==0:\n",
    "    print('zero')\n",
    "else:\n",
    "    print('negative')"
   ]
  },
  {
   "cell_type": "code",
   "execution_count": null,
   "id": "cdfeac46",
   "metadata": {},
   "outputs": [],
   "source": [
    "# write a python program to get the factorial number to given number.\n",
    "n=int(input('enter the number:'))\n",
    "f=1\n",
    "for i in range(1,n+1):\n",
    "    f=f*i\n",
    "print(\"factorial of\",n,'is',f)"
   ]
  },
  {
   "cell_type": "code",
   "execution_count": null,
   "id": "ca252089",
   "metadata": {},
   "outputs": [],
   "source": [
    "# write a python program to get the factorial number to given number.\n",
    "a=int(input('enter the number:'))\n",
    "f=1\n",
    "if a<0:\n",
    "    print('negative number is',a)\n",
    "elif a==0:\n",
    "    print('zero')\n",
    "else:    \n",
    "    for i in range(1,a+1):\n",
    "        f=f*i\n",
    "    print(\"factorial of the number\",a,'is =',f) "
   ]
  },
  {
   "cell_type": "code",
   "execution_count": null,
   "id": "267776cf",
   "metadata": {},
   "outputs": [],
   "source": [
    "# Write a Python program to get the Fibonacci series of given range. \n",
    "a=int(input('enter the number:'))\n",
    "count=0\n",
    "n1=0\n",
    "n2=1\n",
    "if a<0:\n",
    "    print('negative')\n",
    "elif a==0:\n",
    "    print('zero')\n",
    "else:\n",
    "    print(\"The fibonacci sequence of the numbers is:\")\n",
    "    while count<a:\n",
    "        print(n1)\n",
    "        nth=n1+n2\n",
    "        n1=n2\n",
    "        n2=nth\n",
    "        count+=1"
   ]
  },
  {
   "cell_type": "code",
   "execution_count": null,
   "id": "bd406f70",
   "metadata": {},
   "outputs": [],
   "source": [
    "# separate the string in number,alphabats.\n",
    "a=input('enter the string : ')\n",
    "str1=''\n",
    "num1=''\n",
    "str2=''\n",
    "for i in a:\n",
    "    if i in '1234567890':\n",
    "        num1+=i\n",
    "    elif i in 'AQWERTYUIOPSDFGHJKLMNBVCXZ':\n",
    "        str2+=i\n",
    "    else:\n",
    "        str1+=i\n",
    "print('number is:',num1,'    total is=',len(num1))\n",
    "print('alphabat is:',str1,'  total is =',len(str1))\n",
    "print('capital alphabat is :',str2,'   total is=',len(str2))\n",
    "print('Total number is=',len(num1+str1+str2))"
   ]
  },
  {
   "cell_type": "code",
   "execution_count": null,
   "id": "d16b4828",
   "metadata": {},
   "outputs": [],
   "source": [
    "# What is the purpose continue statement in python?\n",
    "# The continue statement in Python returns the control to the beginning \n",
    "# of the while loop. The continue statement rejects all the remaining statements \n",
    "# in the current iteration of the loop and moves the control back to the top of the loop. \n",
    "# The continue statement can be used in both while and for loops.\n"
   ]
  },
  {
   "cell_type": "code",
   "execution_count": null,
   "id": "05c48300",
   "metadata": {},
   "outputs": [],
   "source": [
    "# Write python program that swap two number with temp variable and without temp variable.\n",
    "print('enter the year:')\n",
    "y=int(input())\n",
    "if y%400==0:\n",
    "    print('it is a leap year')\n",
    "elif y%4==0 and y%100!=0:\n",
    "    print('it is a leap year')\n",
    "else:\n",
    "    print('it is not leap year')"
   ]
  },
  {
   "cell_type": "code",
   "execution_count": null,
   "id": "f058da15",
   "metadata": {},
   "outputs": [],
   "source": [
    "# Write python program that swap two number with temp variable.\n",
    "a=input('enter the first number:')\n",
    "b=input('enter the second number ')\n",
    "print('value of a before swapping: ',a)\n",
    "print('value of b before swapping: ',b)\n",
    "temp=a\n",
    "a=b\n",
    "b=temp\n",
    "print('value of a after swapping: ',a)\n",
    "print('value of b after swapping: ',b)"
   ]
  },
  {
   "cell_type": "code",
   "execution_count": null,
   "id": "620de245",
   "metadata": {},
   "outputs": [],
   "source": [
    "# Write python program that swap two number without temp variable.\n",
    "a=int(input('enter the first number:'))\n",
    "b=int(input('enter the second number '))\n",
    "print('value of a before swapping a=',a)\n",
    "print('value of b before swapping b=',b)\n",
    "a=a+b\n",
    "b=a-b\n",
    "a=a-b\n",
    "\n",
    "print('value of a after swapping a=',a)\n",
    "print('value of b after swapping b=',b)"
   ]
  },
  {
   "cell_type": "code",
   "execution_count": null,
   "id": "5ad73cc7",
   "metadata": {},
   "outputs": [],
   "source": [
    "# write a program to find whether a given number is even or odd, print out an appropraint message to the user.\n",
    "print('enter the number:')\n",
    "r=int(input())\n",
    "if r%2==0:\n",
    "    print('this is a even number')\n",
    "else:\n",
    "    print('this is a odd number')\n",
    "\n"
   ]
  },
  {
   "cell_type": "code",
   "execution_count": null,
   "id": "f6e61f3e",
   "metadata": {},
   "outputs": [],
   "source": [
    "#write a python program to test whether a passed leter (alphabat) is a vowel or not.\n",
    "print('enter the leter ')\n",
    "a=str(input())\n",
    "if  a=='a'or a=='e' or a=='i' or a =='o'or a=='u' or a== 'A' or a=='E' or a=='I'or a=='O' or a=='U':\n",
    "    print('it is a vowel')\n",
    "else:\n",
    "    print('it is not vowel')"
   ]
  },
  {
   "cell_type": "code",
   "execution_count": null,
   "id": "7c726d5f",
   "metadata": {},
   "outputs": [],
   "source": [
    "#Write a Python program to sum of three given integers. However, if two values are equal sum will be zero.\n",
    "a=int(input(' first number: '))\n",
    "b=int(input(' second number:  '))\n",
    "c=int(input('third number: '))\n",
    "sum=a+b+c\n",
    "if a==b or b==c or c==a:\n",
    "    print('zero')\n",
    "else:\n",
    "    print('sum =',sum)"
   ]
  },
  {
   "cell_type": "code",
   "execution_count": null,
   "id": "a57bace6",
   "metadata": {},
   "outputs": [],
   "source": [
    "# Write a Python program that will return true if the two given integer values are equal \n",
    "# or their sum or difference is 5.\n",
    "a=int(input(' first number: '))\n",
    "b=int(input(' second number:  '))\n",
    "if a==b or a+b==5 or a-b==5:\n",
    "    print('true')\n",
    "else:\n",
    "    print('false')\n"
   ]
  },
  {
   "cell_type": "code",
   "execution_count": null,
   "id": "9640d467",
   "metadata": {},
   "outputs": [],
   "source": [
    "# Write a python program to sum of the first n positive integers.\n",
    "n=int(input('enter the number:'))\n",
    "f=0\n",
    "for i in range(0,n+1):\n",
    "    f=f+i\n",
    "print('sum of the number',n,\"is =\",f)"
   ]
  },
  {
   "cell_type": "code",
   "execution_count": null,
   "id": "48ccccda",
   "metadata": {},
   "outputs": [],
   "source": [
    "# Write a Python program to calculate the length of a string.\n",
    "a=str(input('enter the string:'))\n",
    "t=0\n",
    "for i in a:\n",
    "    t=t+1\n",
    "print(\"srting=\",t)"
   ]
  },
  {
   "cell_type": "code",
   "execution_count": null,
   "id": "f6b9cfd9",
   "metadata": {},
   "outputs": [],
   "source": [
    "# Write a Python program to calculate the length of a string.\n",
    "a=str(input('enter the string:'))\n",
    "print(len(a))"
   ]
  },
  {
   "cell_type": "code",
   "execution_count": null,
   "id": "7e3b107d",
   "metadata": {},
   "outputs": [],
   "source": [
    "# Write a Python program to count the number of characters in a string.\n",
    "a=str(input('enter the string :'))\n",
    "print('number of characters=',len(a))\n"
   ]
  },
  {
   "cell_type": "code",
   "execution_count": 3,
   "id": "19e616ff",
   "metadata": {},
   "outputs": [
    {
     "name": "stdout",
     "output_type": "stream",
     "text": [
      "enter the string:aabbbccde\n",
      "a = 2 times\n",
      "b = 3 times\n",
      "c = 2 times\n",
      "d = 1 times\n",
      "e = 1 times\n"
     ]
    }
   ],
   "source": [
    "# Write a Python program to count the number of characters (character frequency) in a string.\n",
    "str1=input('enter the string:')\n",
    "b=''\n",
    "for i in str1:\n",
    "    if i not in b:\n",
    "        b+=i\n",
    "        print(i,'=',str1.count(i),'times')\n"
   ]
  },
  {
   "cell_type": "code",
   "execution_count": null,
   "id": "13a8db79",
   "metadata": {},
   "outputs": [],
   "source": [
    "# Write a Python program to count the occurrences of each word in a given sentence.\n",
    "str1=input('enter the string:')\n",
    "a = str1.split(' ')\n",
    "b=''\n",
    "for i in a:\n",
    "    if i not in b:\n",
    "        b+=i\n",
    "        print(i,'=',str1.count(i),'times')\n"
   ]
  },
  {
   "cell_type": "code",
   "execution_count": null,
   "id": "58c8b446",
   "metadata": {},
   "outputs": [],
   "source": [
    "# What are negative indexes and why are they used ?\n",
    "# The negative index is used to remove any new-line spaces from the string and allow the \n",
    "# string to except the last character that is given as N[:-1].\n",
    "a='hello world'\n",
    "print(a[-2])"
   ]
  },
  {
   "cell_type": "code",
   "execution_count": null,
   "id": "cc850fc7",
   "metadata": {},
   "outputs": [],
   "source": [
    "# Write a Python program to count occurrences of a substring in a string.\n",
    "a =input('enter the string: ')\n",
    "print('total numbers of substring=',len(a))"
   ]
  },
  {
   "cell_type": "code",
   "execution_count": 1,
   "id": "89bc0252",
   "metadata": {},
   "outputs": [
    {
     "name": "stdout",
     "output_type": "stream",
     "text": [
      "enter the string : google\n",
      "google 1\n"
     ]
    }
   ],
   "source": [
    "# Write a Python program to count the occurrences of each word in a given sentence.\n",
    "str1=input('enter the string : ')\n",
    "str1=str1.split()\n",
    "i=0\n",
    "while i<len(str1):\n",
    "    count=0\n",
    "    for j in str1:\n",
    "        if str1[i]==j:\n",
    "            count=count+1\n",
    "    print(str1[i],count)\n",
    "    i=i+1\n",
    "    \n",
    "    "
   ]
  },
  {
   "cell_type": "code",
   "execution_count": null,
   "id": "5569736c",
   "metadata": {},
   "outputs": [],
   "source": [
    "# Write a Python program to get a single string from two given strings,separated by a \n",
    "# space and swap the first two characters of each string.\n",
    "a=input('enter first string:')\n",
    "b=input('enter second string:')\n",
    "print('value of a before swapping :',a)\n",
    "print('value of b before swapping :',b)\n",
    "c=b[:2]+a[2:]\n",
    "d=a[:2]+b[2:]\n",
    "print('after swapping the string :',c)\n",
    "print('after swapping the string :',d)"
   ]
  },
  {
   "cell_type": "code",
   "execution_count": null,
   "id": "5db7750b",
   "metadata": {},
   "outputs": [],
   "source": [
    "# Write a Python program to add 'ing' at the end of a given string (lengthshould be at least 3).\n",
    "# If the given string already ends with 'ing' then add 'ly'instead if  the string length of\n",
    "# the given string is less than 3, leave it unchanged.\n",
    "a=input('enter the string:')\n",
    "b=len(a)\n",
    "if b>2:\n",
    "    if a[-3:]=='ing':\n",
    "        a+= 'ly'\n",
    "    else:\n",
    "        a+= 'ing'\n",
    "        \n",
    "print(a)"
   ]
  },
  {
   "cell_type": "code",
   "execution_count": null,
   "id": "6ed3dce8",
   "metadata": {},
   "outputs": [],
   "source": [
    "# Write a Python program to find the first appearance of the substring 'not' and 'poor'\n",
    "# froma given string, if 'not' follows the 'poor', replace the whole'not'...'poor'\n",
    "# substring with 'good'. Return the resulting string.\n",
    "str1=input('enter the string : ')\n",
    "b=str1.find('not')\n",
    "f=str1.find('poor')\n",
    "if f>b:\n",
    "    str1=str1.replace(str1[b:(f+4)],'good')\n",
    "    print(str1)\n",
    "else:\n",
    "    print(str1)"
   ]
  },
  {
   "cell_type": "code",
   "execution_count": null,
   "id": "77e4fa8b",
   "metadata": {},
   "outputs": [],
   "source": [
    "# Write a Python program to find the first appearance of the substring 'not' and 'poor'\n",
    "# froma given string, if 'not' follows the 'poor', replace the whole'not'...'poor'\n",
    "# substring with 'good'. Return the resulting string.\n",
    "str1=input('enter the string: ')\n",
    "for something in range(str1.count('not')):\n",
    "    if str1.find('not')<str1.find('poor'):\n",
    "        start_point=str1.find('not')\n",
    "        end_point=str1.find('poor')+4\n",
    "        to_be_replace=str1[start_point:end_point]\n",
    "        replacement='good'\n",
    "        str1=str1.replace(to_be_replace,replacement)\n",
    "    else:\n",
    "        str1=str1\n",
    "print(str1)"
   ]
  },
  {
   "cell_type": "code",
   "execution_count": null,
   "id": "410cfaa7",
   "metadata": {},
   "outputs": [],
   "source": [
    "# Write a Python function that takes a list of words and returns the length of the longest one.\n",
    "a=input('enter the string: ')\n",
    "b=a.split()\n",
    "c=len(b[0])\n",
    "for i in b:\n",
    "    if len(i)>c:\n",
    "        c=len(i)\n",
    "print('the longest string length =',c)"
   ]
  },
  {
   "cell_type": "code",
   "execution_count": null,
   "id": "65d446fb",
   "metadata": {},
   "outputs": [],
   "source": [
    "# Write a Python function to reverses a string if its length is a multiple of 4.\n",
    "a=input('enter the string:')\n",
    "if len(a)%4==0:\n",
    "    print(''.join(reversed(a)))\n",
    "else:\n",
    "    print(a)"
   ]
  },
  {
   "cell_type": "code",
   "execution_count": null,
   "id": "b8437154",
   "metadata": {},
   "outputs": [],
   "source": [
    "# Write a Python program to get a string made of the first 2 and the last 2\n",
    "# chars from a given a string. If the string length is less than 2,return instead\n",
    "# of the empty string.\n",
    "\n",
    "  # Sample String:w3resource'\n",
    "  # Expected Result: 'w3ce'\n",
    "  # Sample String: 'w3'\n",
    "  # Expected Result: 'w3w3'\n",
    "  # Sample String: ' w'\n",
    "  # Expected Result: Empty String\n",
    "a=input('enter the sample string: ')\n",
    "if len(a)<2:\n",
    "    print(a)\n",
    "else:\n",
    "    group=a[:2]+a[-2:]\n",
    "    print(group)"
   ]
  },
  {
   "cell_type": "code",
   "execution_count": null,
   "id": "d8b5fec9",
   "metadata": {},
   "outputs": [],
   "source": [
    "# Write a Python function to insert a string in the middle of a string.\n",
    "a=input('enter the string:')\n",
    "b=input('enter the string:')\n",
    "c=a[:2]+ b +a[2:]\n",
    "print(c)"
   ]
  }
 ],
 "metadata": {
  "kernelspec": {
   "display_name": "Python 3 (ipykernel)",
   "language": "python",
   "name": "python3"
  },
  "language_info": {
   "codemirror_mode": {
    "name": "ipython",
    "version": 3
   },
   "file_extension": ".py",
   "mimetype": "text/x-python",
   "name": "python",
   "nbconvert_exporter": "python",
   "pygments_lexer": "ipython3",
   "version": "3.9.12"
  }
 },
 "nbformat": 4,
 "nbformat_minor": 5
}
