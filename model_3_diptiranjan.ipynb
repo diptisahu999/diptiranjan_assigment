{
 "cells": [
  {
   "cell_type": "code",
   "execution_count": null,
   "id": "106fca86",
   "metadata": {},
   "outputs": [],
   "source": [
    "# What is List? How will you reverse a list?\n",
    "# the list is a collection data type, in the list can be store all datatype.\n",
    "list1=[1,2,5,'python',[1,3,6],6,8,9]\n",
    "# print(list1[::-1])         # use indedxing\n",
    "list1.reverse()              \n",
    "print(list1)"
   ]
  },
  {
   "cell_type": "code",
   "execution_count": null,
   "id": "8d3c48db",
   "metadata": {},
   "outputs": [],
   "source": [
    "# How will you remove last object from a list?\n",
    "list1=[1,2,'skjklsd',6,8,9]  # use indedxing\n",
    "print(list1[:-1])"
   ]
  },
  {
   "cell_type": "code",
   "execution_count": null,
   "id": "42c0e7d9",
   "metadata": {},
   "outputs": [],
   "source": [
    "# How will you remove last object from a list?\n",
    "list1=[1,2,'skjklsd',6,8,9]   # use method\n",
    "list1.remove(6)\n",
    "print(list1)"
   ]
  },
  {
   "cell_type": "code",
   "execution_count": null,
   "id": "b05a3c85",
   "metadata": {},
   "outputs": [],
   "source": [
    "# Suppose list1 is [2, 33, 222, 14, and 25], what is list1 [-1]?\n",
    "list1=[2,33,222,14,25]\n",
    "print(list1[-1])"
   ]
  },
  {
   "cell_type": "code",
   "execution_count": null,
   "id": "368a23b5",
   "metadata": {},
   "outputs": [],
   "source": [
    "# Differentiate between append () and extend () methods?\n",
    "list1=[1,32,23,4]\n",
    "str1='python'\n",
    "list1.append(str1)\n",
    "print(list1)   # when the append() function are calculate in singal element.\n",
    "list1.extend(str1)\n",
    "print(list1)   # when the extennd() function are calculate in iterable.\n"
   ]
  },
  {
   "cell_type": "code",
   "execution_count": null,
   "id": "aadbf383",
   "metadata": {},
   "outputs": [],
   "source": [
    "# Write a Python function to get the largest number,smallest number and sum of all from a list.\n",
    "list1=[34,23,3,43,789,78]\n",
    "print('longest element=',max(list1))\n",
    "print('smallest element=',min(list1))\n",
    "total=sum(list1)\n",
    "print('sum of total element=',total)"
   ]
  },
  {
   "cell_type": "code",
   "execution_count": null,
   "id": "6cd28fc0",
   "metadata": {},
   "outputs": [],
   "source": [
    "# how will you compare two lists.\n",
    "list1=[12,23,43,22,78]\n",
    "list2=[12,43,78,23,22]\n",
    "l1=set(list1)\n",
    "l2=set(list2)\n",
    "if l1==l2:\n",
    "    print('equal')\n",
    "else:\n",
    "    print('not equal')"
   ]
  },
  {
   "cell_type": "code",
   "execution_count": null,
   "id": "ae3f4c56",
   "metadata": {},
   "outputs": [],
   "source": [
    "# Write a Python program to count the number of strings where the string \n",
    "# length is 2 or more and the first and last character are same from a given \n",
    "# list of strings\n",
    "str1=input('enter the string:')\n",
    "val=0\n",
    "for i in str1:\n",
    "    if len(str1)>1 and str1[0]==str1[-1]:\n",
    "        val += 1\n",
    "print('number of character=',val)    "
   ]
  },
  {
   "cell_type": "code",
   "execution_count": null,
   "id": "d51c6270",
   "metadata": {},
   "outputs": [],
   "source": [
    "# Write a Python program to remove duplicates from a list.\n",
    "list1=[1,23,3,32,3,32,5,6,5,45,5]\n",
    "list2=[]\n",
    "for i in list1:\n",
    "    if i not in list2:\n",
    "        list2.append(i)\n",
    "print(list2)"
   ]
  },
  {
   "cell_type": "code",
   "execution_count": null,
   "id": "4feb1a98",
   "metadata": {},
   "outputs": [],
   "source": [
    "# Write a Python program to remove duplicates from a list.\n",
    "list1=[1,23,3,32,3,32,5,6,5,45,5]\n",
    "list2=set(list1)        # type cast methods\n",
    "print(list(list2))"
   ]
  },
  {
   "cell_type": "code",
   "execution_count": null,
   "id": "5d0d31f7",
   "metadata": {},
   "outputs": [],
   "source": [
    "# Write a Python program to check a list is empty or not.\n",
    "def some(list1):\n",
    "    if len(list1)==0:\n",
    "        return print('list is empty')\n",
    "    else:\n",
    "        return print('list is not empty')\n",
    "some([])"
   ]
  },
  {
   "cell_type": "code",
   "execution_count": null,
   "id": "3ca76712",
   "metadata": {},
   "outputs": [],
   "source": [
    "# Write a Python program to check a list is empty or not.\n",
    "list1=[2.2,23]\n",
    "if len(list1)==0:\n",
    "    print('list is empty')\n",
    "else:\n",
    "    print('list is not empty')"
   ]
  },
  {
   "cell_type": "code",
   "execution_count": null,
   "id": "5f5241b2",
   "metadata": {},
   "outputs": [],
   "source": [
    "# Write a Python function that takes two lists and returns true if they have \n",
    "# at least one common member.\n",
    "list1=['p','y','o',4,5,6]\n",
    "list2=['r',4,'t',7,5,5,6]\n",
    "for i in list2:\n",
    "    if i in list1:\n",
    "        print('True')\n",
    "        break\n",
    "else:\n",
    "    print('False')"
   ]
  },
  {
   "cell_type": "code",
   "execution_count": null,
   "id": "a63a7115",
   "metadata": {},
   "outputs": [],
   "source": [
    "# Write a Python program to generate and print a list of first and last 5 \n",
    "# elements where the values are square of numbers between 1 and 30.\n",
    "# list1=[1,2,4,25,6,7,8,9,64,81]\n",
    "# list2 = [1,4,25]\n",
    "# output1,4,9,16,25\n",
    "a=int(input('enter the number:'))\n",
    "l=[]\n",
    "for i in range(1,a+1):\n",
    "    l.append(i**2)\n",
    "print(l[:5]+l[-5:])"
   ]
  },
  {
   "cell_type": "code",
   "execution_count": null,
   "id": "aefec86d",
   "metadata": {},
   "outputs": [],
   "source": [
    "# Write a Python function that takes a list and returns a new list with unique \n",
    "# elements of the first list.\n",
    "list1=[1,23,2,23,4,54,5,6]\n",
    "list2=[]\n",
    "for i in list1:\n",
    "    if i not in list2:\n",
    "        list2.append(i)\n",
    "print(list2)"
   ]
  },
  {
   "cell_type": "code",
   "execution_count": null,
   "id": "f9fc6bdd",
   "metadata": {},
   "outputs": [],
   "source": [
    "# Write a Python program to convert a list of characters into a string.\n",
    "list1=['D','I','P','T','I']\n",
    "list2=''.join(list1)\n",
    "print(list2)"
   ]
  },
  {
   "cell_type": "code",
   "execution_count": null,
   "id": "ac341b47",
   "metadata": {},
   "outputs": [],
   "source": [
    "# Write a Python program to select an item randomly from a list.\n",
    "import random\n",
    "list1 = ['Red', 'Blue','orange','Green','white','lightblue','Black']\n",
    "print(random.choice(list1))"
   ]
  },
  {
   "cell_type": "code",
   "execution_count": null,
   "id": "5e1d019b",
   "metadata": {},
   "outputs": [],
   "source": [
    "# Write a Python program to find the second smallest number in a list.\n",
    "list1=[34,23,2,3,43,789,78]\n",
    "list1.sort()\n",
    "print(list1[1])"
   ]
  },
  {
   "cell_type": "code",
   "execution_count": null,
   "id": "e0a2e5b9",
   "metadata": {},
   "outputs": [],
   "source": [
    "# Write a Python program to find the second largest number in a list.\n",
    "list1=[34,23,2,3,43,789,78]\n",
    "list1.sort()\n",
    "print(list1[-2])"
   ]
  },
  {
   "cell_type": "code",
   "execution_count": null,
   "id": "191dbbe4",
   "metadata": {},
   "outputs": [],
   "source": [
    "# Write a Python program to get unique values from a list.\n",
    "list1=[1,2,3,4,2,3]\n",
    "list2=[]\n",
    "for i in list1:\n",
    "    if i not in list2:\n",
    "        list2.append(i)\n",
    "print(list2)"
   ]
  },
  {
   "cell_type": "code",
   "execution_count": null,
   "id": "09751fa4",
   "metadata": {},
   "outputs": [],
   "source": [
    "# Write a Python program to check whether a list contains a sub list.\n",
    "list1=[1,2,3,4,5,6,7,8,9]\n",
    "sub_list=[3,4,5,6,7,8]\n",
    "sub_idx=list1.index(sub_list[0])\n",
    "if list1[sub_idx:sub_idx+len(sub_list)]==sub_list:\n",
    "    print('it is exist')\n",
    "else:\n",
    "    print('not exist')"
   ]
  },
  {
   "cell_type": "code",
   "execution_count": null,
   "id": "31215810",
   "metadata": {},
   "outputs": [],
   "source": [
    "# Write a Python program to split a list into different variables.\n",
    "list1=[(1,2),3,(4,5),'python']\n",
    "list1,list2,list3,list4=list1\n",
    "print(list2)\n",
    "print(list4)"
   ]
  },
  {
   "cell_type": "code",
   "execution_count": null,
   "id": "67345fac",
   "metadata": {},
   "outputs": [],
   "source": [
    "# Write a Python program to split a list into different variables.\n",
    "list1=[(1,2,4,'python','a',3),(90,98,3,'java','s',2),(5,8,5,4,5,'.net',3)]\n",
    "list2,list3,list4=list1\n",
    "print(list1)\n",
    "print(list2)\n",
    "print(list3)\n",
    "print(list3)"
   ]
  },
  {
   "cell_type": "code",
   "execution_count": null,
   "id": "0633ef03",
   "metadata": {},
   "outputs": [],
   "source": [
    "# What is tuple? Difference between list and tuple.\n",
    "# Tuple is types of collection datatype,Tuple are used to store multiple items in a single variable.\n",
    "# in list and tuple datatype are same but one difference is list are mutable but tuple are immutable."
   ]
  },
  {
   "cell_type": "code",
   "execution_count": null,
   "id": "4478d0f9",
   "metadata": {},
   "outputs": [],
   "source": [
    "# Write a Python program to create a tuple with different data types.\n",
    "tuple1=(12,'python',12.14,23,(12,32,'a'),{'d':12,12:'python'},[12,12,23,2],{12,43,54},20)\n",
    "a=tuple((12,'python',12.14,23,(12,32,'a'),{'d':12,12:'python'},[12,12,23,2],{12,43,54},23))\n",
    "print(a)"
   ]
  },
  {
   "cell_type": "code",
   "execution_count": null,
   "id": "2339f354",
   "metadata": {},
   "outputs": [],
   "source": [
    "# Write a Python program to create a tuple with numbers.\n",
    "tuple1=12,23,34,54,56,78,56\n",
    "print(tuple1)\n",
    "print(type(tuple1))"
   ]
  },
  {
   "cell_type": "code",
   "execution_count": null,
   "id": "903f2029",
   "metadata": {},
   "outputs": [],
   "source": [
    "# Write a Python program to convert a tuple to a string.\n",
    "tuple1=('p','y','t','h','o','n')\n",
    "str1=''\n",
    "for i in tuple1:\n",
    "    str1=str1+i\n",
    "print(str1)"
   ]
  },
  {
   "cell_type": "code",
   "execution_count": null,
   "id": "8b040a38",
   "metadata": {},
   "outputs": [],
   "source": [
    "# Write a Python program to convert a tuple to a string.\n",
    "tuple1=('p','y','t','h','o','n')\n",
    "str1=''\n",
    "str1=str1+str1.join(tuple1)\n",
    "print(str1)"
   ]
  },
  {
   "cell_type": "code",
   "execution_count": null,
   "id": "533aad21",
   "metadata": {},
   "outputs": [],
   "source": [
    "# Write a Python program to check whether an element exists with in a tuple.\n",
    "tuple1=(1,12,21,'python','a',23)\n",
    "print('python' in tuple1)"
   ]
  },
  {
   "cell_type": "code",
   "execution_count": null,
   "id": "0bfd22a3",
   "metadata": {},
   "outputs": [],
   "source": [
    "# Write a Python program to find the length of a tuple.\n",
    "tuple1=(1,12,21,'python','a',23)\n",
    "print(len(tuple1))"
   ]
  },
  {
   "cell_type": "code",
   "execution_count": null,
   "id": "dee3b472",
   "metadata": {},
   "outputs": [],
   "source": [
    "# Write a Python program to convert a list to a tuple.\n",
    "list1=[12,32,(12,43,34.3,'python',2),{23,43},12.3,'java',['a','b',23,3],23,45]\n",
    "tuple1=tuple(list1)\n",
    "print(list1)\n",
    "print(tuple1)"
   ]
  },
  {
   "cell_type": "code",
   "execution_count": null,
   "id": "a9b87ea3",
   "metadata": {},
   "outputs": [],
   "source": [
    "# Write a Python program to reverse a tuple.\n",
    "tuple1=(1,12,21,'python','a',23)\n",
    "# print(tuple1[::-1])\n",
    "list1=list(tuple1)\n",
    "list1.reverse()\n",
    "print(tuple(list1))"
   ]
  },
  {
   "cell_type": "code",
   "execution_count": null,
   "id": "af8e518c",
   "metadata": {},
   "outputs": [],
   "source": [
    "# Write a Python program to replace last value of tuples in a list.\n",
    "tuple1=[(1,12,21),(122,34,32),(23,43,54),(34,64,45)]\n",
    "res=[i[:-1]+(200,) for i in tuple1]     # list comprehension\n",
    "print(res)"
   ]
  },
  {
   "cell_type": "code",
   "execution_count": null,
   "id": "0c378e73",
   "metadata": {},
   "outputs": [],
   "source": [
    "# Write a Python program to replace last value of tuples in a list.\n",
    "tuple1=[(1,12,21),(122,34,32),(23,43,54),(34,64,45)]\n",
    "for i in tuple1:\n",
    "    print(i[:-1]+(123,))"
   ]
  },
  {
   "cell_type": "code",
   "execution_count": null,
   "id": "861bf14f",
   "metadata": {},
   "outputs": [],
   "source": [
    "# Write a Python program to find the repeated items of a tuple.\n",
    "tuple1=(12,32,23,12,32,25,24,42,25,25)\n",
    "l1=()\n",
    "for i in tuple1:\n",
    "    if tuple1.count(i)>1:\n",
    "        continue\n",
    "        print(i)"
   ]
  },
  {
   "cell_type": "code",
   "execution_count": null,
   "id": "72a2b43f",
   "metadata": {},
   "outputs": [],
   "source": [
    "# Write a Python program to remove an empty tuple(s) from a list of tuples.\n",
    "tuple1=[12,23,(),(12,23,43),(),23.23,(),23,23]\n",
    "val=[t for t in tuple1 if t]\n",
    "print(val)"
   ]
  },
  {
   "cell_type": "code",
   "execution_count": null,
   "id": "f68cbe94",
   "metadata": {},
   "outputs": [],
   "source": [
    "# Write a Python program to unzip a list of tuples into individual lists.\n",
    "tuple1=[(12,),(23,),(12,34),(12,23,43),(2,3,4),23.23]\n",
    "(s1,s2,s3,s4,s5,s6)=tuple1\n",
    "s1=list(s1)\n",
    "s2=list(s2)\n",
    "print(s1)"
   ]
  },
  {
   "cell_type": "code",
   "execution_count": null,
   "id": "f9514247",
   "metadata": {},
   "outputs": [],
   "source": [
    "# Write a Python program to convert a list of tuples into a dictionary.\n",
    "list1=[(12,'python'),(122,'java'),('php',12),(123,'javascript')]\n",
    "dict1=dict(list1)\n",
    "print(dict1)"
   ]
  },
  {
   "cell_type": "code",
   "execution_count": null,
   "id": "b6ac7e89",
   "metadata": {},
   "outputs": [],
   "source": [
    "# How will you create a dictionary using tuples in python.\n",
    "tuple1=((12,'python'),(122,'java'),('php',12),(123,'javascript'))\n",
    "print(dict(tuple1))"
   ]
  },
  {
   "cell_type": "code",
   "execution_count": null,
   "id": "61fcb33f",
   "metadata": {},
   "outputs": [],
   "source": [
    "# How will you create a dictionary using tuples in python.\n",
    "tuple1=((12,'python'),(122,'java'),('php',12),(123,'javascript'))\n",
    "res={(i,j) for i,j in tuple1}\n",
    "print(res)"
   ]
  },
  {
   "cell_type": "code",
   "execution_count": null,
   "id": "4d873716",
   "metadata": {},
   "outputs": [],
   "source": [
    "# How will you create a dictionary using tuples in python.\n",
    "tuple1=((12,'python'),(122,'java'),('php',12),(123,'javascript'))\n",
    "res=dict((i,j) for i,j in tuple1)\n",
    "print(res)"
   ]
  },
  {
   "cell_type": "code",
   "execution_count": null,
   "id": "b6c51a7f",
   "metadata": {},
   "outputs": [],
   "source": [
    "# Write a Python script to sort (ascending) a dictionary by value.\n",
    "d1={'python':12,'java':14,'php':55,'.net':23,'javascript':43}\n",
    "a= sorted(d1.items(),key=lambda v:v[1])\n",
    "#print(a)\n",
    "res={k:v for k,v in a}\n",
    "print(res)"
   ]
  },
  {
   "cell_type": "code",
   "execution_count": null,
   "id": "cfe2678e",
   "metadata": {},
   "outputs": [],
   "source": [
    "# Write a Python script to sort (ascending) a dictionary by value.\n",
    "d1={'python':12,'java':14,'php':55,'.net':23,'javascript':43}\n",
    "# w={k: v for k, v in sorted(d1.items())}\n",
    "res={k: v for k, v in sorted(d1.items(),key=lambda v:v[1])}\n",
    "print(res)"
   ]
  },
  {
   "cell_type": "code",
   "execution_count": null,
   "id": "e0dfbe48",
   "metadata": {},
   "outputs": [],
   "source": [
    "# Write a Python script to sort (descending) a dictionary by value.\n",
    "d1={'python':12,'java':14,'php':55,'.net':23,'javascript':43}\n",
    "# w={k: v for k, v in sorted(d1.items())}\n",
    "res={k: v for k, v in sorted(d1.items(),key=lambda v:v[1],reverse=True)}\n",
    "print(res)"
   ]
  },
  {
   "cell_type": "code",
   "execution_count": null,
   "id": "b5837a1b",
   "metadata": {},
   "outputs": [],
   "source": [
    "# Write a Python script to concatenate following dictionaries to create a new one.\n",
    "dict1={12:'python',123:'java'}\n",
    "dict2={'.net':123,'php':321}\n",
    "dict4={12:12,'python':'python','java':'java'}\n",
    "dict3={}\n",
    "for i in (dict1,dict2,dict4):\n",
    "    dict3.update(i)\n",
    "print(dict3)"
   ]
  },
  {
   "cell_type": "code",
   "execution_count": null,
   "id": "babdc044",
   "metadata": {},
   "outputs": [],
   "source": [
    "# Write a Python script to check if a given key already exists in a dictionary.\n",
    "d = {1: 10, 2: 20, 3: 30, 4: 40, 5: 50, 6: 60}\n",
    "key=int(input('enter the keys :'))\n",
    "if key in d:\n",
    "    print('key present in dict')\n",
    "else:\n",
    "    print('key not present in dict')"
   ]
  },
  {
   "cell_type": "code",
   "execution_count": null,
   "id": "5385b150",
   "metadata": {},
   "outputs": [],
   "source": [
    "# How Do You Traverse Through A Dictionary Object In Python?\n",
    "dict1={'a':12,'j':14,'p':55,'n':23,'v':43}\n",
    "for i in dict1:\n",
    "    print(i,dict1[i])"
   ]
  },
  {
   "cell_type": "code",
   "execution_count": null,
   "id": "45f3b28b",
   "metadata": {},
   "outputs": [],
   "source": [
    "# How Do You Check The Presence Of A Key In A Dictionary?\n",
    "d = {'h': 10, 'y': 20,  '30':12, 'e': 40, 'd': 50, 'r': 60}\n",
    "key=input('enter the keys :')\n",
    "if key in d:\n",
    "    print('key present in dict.', 'value=',d[key])\n",
    "else:\n",
    "    print('key not present in dict')"
   ]
  },
  {
   "cell_type": "code",
   "execution_count": null,
   "id": "555dc248",
   "metadata": {},
   "outputs": [],
   "source": [
    "# Write a Python script to print a dictionary where the keys are numbers between 1 and 15.\n",
    "d=dict()\n",
    "for i in range(1,16):\n",
    "    d[i]=i+2\n",
    "print(d)"
   ]
  },
  {
   "cell_type": "code",
   "execution_count": null,
   "id": "9bc57916",
   "metadata": {},
   "outputs": [],
   "source": [
    "# Write a Python program to check multiple keys exists in a dictionary.\n",
    "dict1={'python':12,'java':14,'php':55,'.net':23,'javascript':43}\n",
    "print(dict1.keys()>={'python','java','.net'})\n",
    "print(dict1.keys()>={'python','java','net'})"
   ]
  },
  {
   "cell_type": "code",
   "execution_count": null,
   "id": "f14f4123",
   "metadata": {},
   "outputs": [],
   "source": [
    "# Write a Python program to check multiple keys exists in a dictionary.\n",
    "dict1={'python':12,'java':14,'php':55,'.net':23,'javascript':43,12:42}\n",
    "s1={'python','java','javascript',12}\n",
    "if dict1.keys()>=s1:\n",
    "    print('true')\n",
    "else:\n",
    "    print('false')"
   ]
  },
  {
   "cell_type": "code",
   "execution_count": null,
   "id": "fba8b180",
   "metadata": {},
   "outputs": [],
   "source": [
    "# Write a Python script to merge two Python dictionaries.\n",
    "dict1 = {'a': 100, 'b': 200,'c':400}\n",
    "dict2 = {'i': 300, 'j': 200,'k':500}\n",
    "dict1.update(dict2)\n",
    "print(dict1)"
   ]
  },
  {
   "cell_type": "code",
   "execution_count": null,
   "id": "371e8661",
   "metadata": {},
   "outputs": [],
   "source": [
    "# Write a Python script to merge two Python dictionaries.\n",
    "dict1 = {'a': 100, 'b': 200,'c':400}\n",
    "dict2 = {'i': 300, 'j': 200,'k':500}\n",
    "Dict=dict1.copy()\n",
    "Dict.update(dict2)\n",
    "print(Dict)"
   ]
  },
  {
   "cell_type": "code",
   "execution_count": null,
   "id": "0d117c94",
   "metadata": {},
   "outputs": [],
   "source": [
    "# Write a Python program to map two lists into a dictionary.\n",
    "dict1=['python','java','php']\n",
    "dict2=[123,32,34]\n",
    "Dict=dict(zip(dict1,dict2))\n",
    "print(Dict)"
   ]
  },
  {
   "cell_type": "code",
   "execution_count": null,
   "id": "3d0623a2",
   "metadata": {},
   "outputs": [],
   "source": [
    "# Write a Python program to combine two dictionary adding values for common keys.\n",
    "d1 = {'a': 100, 'b': 200, 'c':300}\n",
    "d2 = {'a': 200, 'b': 200,'d':400}\n",
    "for i in d1:\n",
    "    if i in d2:\n",
    "        d2[i]=d1[i]+d2[i]\n",
    "    else:\n",
    "        d2[i]=d1[i]\n",
    "print(d2,)"
   ]
  },
  {
   "cell_type": "code",
   "execution_count": null,
   "id": "88ab1af3",
   "metadata": {},
   "outputs": [],
   "source": [
    "# Write a Python program to combine two dictionary adding values for common keys.\n",
    "d1 = {'a': 100, 'b': 200, 'c':300, 'e':433}\n",
    "d2 = {'a': 200, 'b': 200,'d':400,'f':234,'e':123}\n",
    "for i in d1:\n",
    "    if i in d2:\n",
    "        d2[i]=d1[i]+d2[i]\n",
    "    else:\n",
    "        d2[i]=d1[i]\n",
    "print(d2)"
   ]
  },
  {
   "cell_type": "code",
   "execution_count": null,
   "id": "0278d633",
   "metadata": {},
   "outputs": [],
   "source": [
    "# Write a Python program to print all unique values in a dictionary.\n",
    "dict1={'python':123,'java':23,'php':23,'hello':12,'.net':43,'javascript':43}\n",
    "s=list(dict1.values())\n",
    "d=set(s)\n",
    "print(set(d))"
   ]
  },
  {
   "cell_type": "code",
   "execution_count": null,
   "id": "c9d890e7",
   "metadata": {},
   "outputs": [],
   "source": [
    "# Why Do You Use the Zip () Method in Python ?\n",
    "# zip() function creates an iterator that will aggregate elements from two or more iterables.\n",
    "l1=['a','b','c','d']\n",
    "l2=[12,23,21,43]\n",
    "print(dict(zip(l1,l2)))"
   ]
  },
  {
   "cell_type": "code",
   "execution_count": null,
   "id": "48e8bf65",
   "metadata": {},
   "outputs": [],
   "source": [
    "# Write a Python program to create and display all combinations of letters,\n",
    "# selecting each letter from a different key in a dictionary.\n",
    "# Sample data: {'1': ['a','b'], '2': ['c','d']}\n",
    "# Expected Output:\n",
    "# ac ad bc bd\n",
    "a={'1':['a','b'], '2':['c','d']}\n",
    "d=list(a.values())\n",
    "# print(d)\n",
    "for i in d[0]:\n",
    "    for j in d[1]:\n",
    "        print(i+j)"
   ]
  },
  {
   "cell_type": "code",
   "execution_count": null,
   "id": "b673cec2",
   "metadata": {},
   "outputs": [],
   "source": [
    "# Write a Python program to create and display all combinations of letters,\n",
    "# selecting each letter from a different key in a dictionary.\n",
    "a={'1':['a','b'], '2':['c','d'], '3':['x','y']}\n",
    "d=list(a.values())\n",
    "# print(d)\n",
    "for i in d[0]:\n",
    "    for j in d[1]:\n",
    "        for k in d[2]:\n",
    "            print(i+j+k)"
   ]
  },
  {
   "cell_type": "code",
   "execution_count": null,
   "id": "7256fced",
   "metadata": {},
   "outputs": [],
   "source": [
    "# Write a Python program to find the highest 3 values in a dictionary.\n",
    "d1={'a':123,'b':234,'c':321,'d':213,'e':254,'f':675}\n",
    "a= sorted(d1.items(),key=lambda v:v[1])\n",
    "#print(a)\n",
    "res={k:v for k,v in a}\n",
    "q=list(res.items())\n",
    "a=q[-3:]\n",
    "print(dict(a))"
   ]
  },
  {
   "cell_type": "code",
   "execution_count": null,
   "id": "1da987ac",
   "metadata": {},
   "outputs": [],
   "source": [
    "# Write a Python program to combine values in python list of dictionaries. \n",
    "# Sample data: [{'item': 'item1', 'amount': 400}, {'item': 'item2', 'amount': 300}, {'item': 'item1', 'amount': 750}]\n",
    "# Expected Output: Counter ({'item1': 1150, 'item2': 300})\n",
    "dict1=[{'item': 'item1', 'amount': 400,'amount':212}, {'item': 'item1', 'amount': 300}, {'item': 'item1', 'amount': 750}]    \n",
    "dict2={}\n",
    "for i in dict1:\n",
    "    if i['item'] not in dict2:\n",
    "        dict2[i['item']]=i['amount']\n",
    "#print(dict2)\n",
    "    else:\n",
    "        dict2[i['item']]+=i['amount']\n",
    "print(dict2)"
   ]
  },
  {
   "cell_type": "code",
   "execution_count": null,
   "id": "84ed8766",
   "metadata": {},
   "outputs": [],
   "source": [
    "# Write a Python program to create a dictionary from a string.\n",
    "# Note: Track the count of the letters from the string. Sample string:'w3resource'\n",
    "# Expected output: {'3': 1,’s’: 1, 'r': 2, 'u': 1, 'w': 1, 'c': 1, 'e': 2, 'o': 1}\n",
    "s='w3resource'\n",
    "d1={}\n",
    "for c in s:\n",
    "    if c in d1:\n",
    "        d1[c]=d1[c]+1\n",
    "    else:\n",
    "        d1[c]=1\n",
    "w={k: v for k, v in sorted(d1.items())}\n",
    "print(w)"
   ]
  },
  {
   "cell_type": "code",
   "execution_count": null,
   "id": "43b70b37",
   "metadata": {},
   "outputs": [],
   "source": [
    "# Write a Python program to create a dictionary from a string.\n",
    "s='w3resrource'\n",
    "d1={}\n",
    "for i in s:\n",
    "    if i in d1:\n",
    "        d1[i]=d1[i]+1\n",
    "    else:\n",
    "        d1[i]=1\n",
    "# res={f: v for f,v in sorted(d1.items())}     # this line is order syntax\n",
    "# print(res)\n",
    "print(d1)"
   ]
  },
  {
   "cell_type": "code",
   "execution_count": null,
   "id": "8f50ab62",
   "metadata": {},
   "outputs": [],
   "source": [
    "# Write a Python function to calculate the factorial of a number (a non-negative integer).\n",
    "def som(num):\n",
    "    if num>1:\n",
    "        return num*som(num-1)\n",
    "    else:\n",
    "        return num\n",
    "print(som(5))"
   ]
  },
  {
   "cell_type": "code",
   "execution_count": null,
   "id": "fb3b6246",
   "metadata": {},
   "outputs": [],
   "source": [
    "# Write a Python function to check whether a number is in a given range.\n",
    "def num(n):\n",
    "    if n in range(1,9):\n",
    "        return print('%s is given the range'%str(n))\n",
    "    else:\n",
    "        print('no')\n",
    "num(5)"
   ]
  },
  {
   "cell_type": "code",
   "execution_count": null,
   "id": "c3cb2002",
   "metadata": {},
   "outputs": [],
   "source": [
    "# Write a Python function to check whether a number is perfect or not.\n",
    "n=int(input('enter the number:'))     # 6,28,4496,8128 :-perfect number\n",
    "sum = 0                               \n",
    "for x in range(1, n):\n",
    "    if n % x == 0:\n",
    "        sum += x\n",
    "# print(sum)\n",
    "if sum==n:\n",
    "    print( n,'is perfect number')\n",
    "else:\n",
    "    print(n,'not perfect number')"
   ]
  },
  {
   "cell_type": "code",
   "execution_count": null,
   "id": "05616182",
   "metadata": {},
   "outputs": [],
   "source": [
    "# Write a Python function that checks whether a passed string is palindrome or not.\n",
    "# find reverse a string.\n",
    "# check the original string and the reverse string are same or not.\n",
    "def pa(n):\n",
    "    return n==n[::-1]\n",
    "s=\"python\"    # malayalam-yes , python=no\n",
    "w=pa(s)\n",
    "if w:\n",
    "    print(\"yes\")\n",
    "else:\n",
    "    print('no')"
   ]
  },
  {
   "cell_type": "code",
   "execution_count": null,
   "id": "db2d6622",
   "metadata": {},
   "outputs": [],
   "source": [
    "# How do you perform pattern matching in Python? Explain."
   ]
  },
  {
   "cell_type": "code",
   "execution_count": null,
   "id": "e40953bf",
   "metadata": {},
   "outputs": [],
   "source": [
    "# What is lambda function in python? What we call a function which is incomplete version of a function?\n",
    "\n",
    "\n",
    "# Lambda Function, also referred to as ‘Anonymous function’ is same as a regular python function but can be \n",
    "# defined without a name.\n",
    "# because they are handy and short.\n",
    "# single expression, can be multiple parameters.\n",
    "\n",
    "var1=lambda a,b:a*b\n",
    "a=var1(9,4)\n",
    "print(a)"
   ]
  },
  {
   "cell_type": "code",
   "execution_count": null,
   "id": "0a8d6782",
   "metadata": {},
   "outputs": [],
   "source": [
    "# How Many Basic Types Of Functions Are Available In Python?\n",
    "# there are three basic type of function.\n",
    "# 1.built-in function :- print(),type(),len(),all(),any(),filter(),eval() and enumerate()\n",
    "# 2.user define function :- define the user\n",
    "# 3.anonymous function :- lambda function"
   ]
  },
  {
   "cell_type": "code",
   "execution_count": null,
   "id": "3cdb84ae",
   "metadata": {},
   "outputs": [],
   "source": [
    "# How can you pick a random item from a list or tuple?\n",
    "list1=[12,32,'python','a',23,45]\n",
    "import random\n",
    "s=random.choice(list1)\n",
    "print(s)"
   ]
  },
  {
   "cell_type": "code",
   "execution_count": null,
   "id": "28d76205",
   "metadata": {},
   "outputs": [],
   "source": [
    "# How can you pick a random item from a range?\n",
    "import random\n",
    "s=random.randrange(100,1000)\n",
    "print(s)"
   ]
  },
  {
   "cell_type": "code",
   "execution_count": null,
   "id": "fbbbb76a",
   "metadata": {},
   "outputs": [],
   "source": [
    "# How can you get a random number in python?\n",
    "import random\n",
    "s=random.random()\n",
    "print(s)"
   ]
  },
  {
   "cell_type": "code",
   "execution_count": null,
   "id": "5dcd7004",
   "metadata": {},
   "outputs": [],
   "source": [
    "# How will you set the starting value in generating random numbers?\n",
    "import random\n",
    "for i in range(5):\n",
    "    random.seed(0)\n",
    "print(random.randint(1,1000))"
   ]
  },
  {
   "cell_type": "code",
   "execution_count": null,
   "id": "c46811f5",
   "metadata": {},
   "outputs": [],
   "source": [
    "# How will you randomizes the items of a list in place?\n",
    "list1 = [3,22,4,-768,3.4]\n",
    "import random\n",
    "random.shuffle(list1)\n",
    "print(list1)"
   ]
  },
  {
   "cell_type": "code",
   "execution_count": null,
   "id": "9fe8bb9a",
   "metadata": {},
   "outputs": [],
   "source": [
    "# Write a Python program to read a random line from a file.\n",
    "import random\n",
    "\n",
    "def random_line(afile):\n",
    "    line = next(afile)\n",
    "    for num, aline in enumerate(afile, 2):\n",
    "        if random.randrange(num):\n",
    "            continue\n",
    "        line = aline\n",
    "    return line\n",
    "random_line()"
   ]
  },
  {
   "cell_type": "code",
   "execution_count": null,
   "id": "b71308b0",
   "metadata": {},
   "outputs": [],
   "source": [
    "# Write a Python program to convert degree to radian.\n",
    "degree=float(input('enter the degree:'))\n",
    "pi=3.14\n",
    "radian=degree*(pi/180)\n",
    "print('the radian is =',radian)"
   ]
  },
  {
   "cell_type": "code",
   "execution_count": null,
   "id": "0b228cdd",
   "metadata": {},
   "outputs": [],
   "source": [
    "# Write a Python program to convert degree to radian.\n",
    "from math import*\n",
    "degree=float(input('enter the degree:'))\n",
    "radian=degree*(pi/180)\n",
    "print('the radian is =',radian)"
   ]
  },
  {
   "cell_type": "code",
   "execution_count": null,
   "id": "59930304",
   "metadata": {},
   "outputs": [],
   "source": [
    "# Write a Python program to calculate the area of a trapezoid.\n",
    "a=float(input('enter the first base:'))\n",
    "b=float(input('enter the second base:'))\n",
    "height=float(input('enter the height:'))     \n",
    "area=((a+b)/2)*height                            # area of trapezoid=((a+b)/2)*height\n",
    "print('area of trapezoid=',area)"
   ]
  },
  {
   "cell_type": "code",
   "execution_count": null,
   "id": "63f3fa28",
   "metadata": {},
   "outputs": [],
   "source": [
    "# Write a Python program to calculate the area of a parallelogram.\n",
    "# area=A=h*b\n",
    "base=float(input('enter the base:'))\n",
    "height=float(input('enter the height:'))\n",
    "area=base*height\n",
    "print('area of parallelogram=',area)"
   ]
  },
  {
   "cell_type": "code",
   "execution_count": null,
   "id": "edae684b",
   "metadata": {},
   "outputs": [],
   "source": [
    "# Write a Python program to calculate surface volume and area of a cylinder,\n",
    "# area of cylinder=A=(2*pi*r*h)+(2*pi*r*r)\n",
    "# surface volume of cylinder=pi*r*r*h\n",
    "pi=3.141\n",
    "radius=float(input('enter the radius:'))\n",
    "height=float(input('enter the height:'))\n",
    "A=(2*pi*radius*height)+(2*pi*radius*radius)\n",
    "V=pi*radius*radius*height\n",
    "print('area of cylinder=',A)\n",
    "print('volume of cylinder=',V)"
   ]
  },
  {
   "cell_type": "code",
   "execution_count": null,
   "id": "da446d80",
   "metadata": {},
   "outputs": [],
   "source": [
    "# Write a Python program to returns sum of all divisors of a number.\n",
    "number=int(input('enter the number:'))\n",
    "divisors=[1]\n",
    "for ele in range(2,number):\n",
    "    if (number%ele)==0:\n",
    "        divisors.append(ele)\n",
    "sum_of_divisors=sum(divisors)\n",
    "print('the sum of divisors = %s'%sum_of_divisors)"
   ]
  },
  {
   "cell_type": "code",
   "execution_count": null,
   "id": "1e188be8",
   "metadata": {},
   "outputs": [],
   "source": [
    "# Write a Python program to find the maximum and minimum numbers from the specified decimal numbers.\n",
    "list_number=[2.45 ,2.69 ,2.45 ,3.45 ,2.00 ,0.04 ,7.25]\n",
    "print(min(list_number))\n",
    "print(max(list_number))"
   ]
  }
 ],
 "metadata": {
  "kernelspec": {
   "display_name": "Python 3 (ipykernel)",
   "language": "python",
   "name": "python3"
  },
  "language_info": {
   "codemirror_mode": {
    "name": "ipython",
    "version": 3
   },
   "file_extension": ".py",
   "mimetype": "text/x-python",
   "name": "python",
   "nbconvert_exporter": "python",
   "pygments_lexer": "ipython3",
   "version": "3.9.12"
  }
 },
 "nbformat": 4,
 "nbformat_minor": 5
}
