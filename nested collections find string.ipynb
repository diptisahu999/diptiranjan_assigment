{
 "cells": [
  {
   "cell_type": "code",
   "execution_count": 1,
   "id": "d8a51bc1",
   "metadata": {},
   "outputs": [
    {
     "ename": "NameError",
     "evalue": "name 's1' is not defined",
     "output_type": "error",
     "traceback": [
      "\u001b[0;31m---------------------------------------------------------------------------\u001b[0m",
      "\u001b[0;31mNameError\u001b[0m                                 Traceback (most recent call last)",
      "Input \u001b[0;32mIn [1]\u001b[0m, in \u001b[0;36m<cell line: 67>\u001b[0;34m()\u001b[0m\n\u001b[1;32m     63\u001b[0m         \u001b[38;5;28;01mif\u001b[39;00m \u001b[38;5;28mtype\u001b[39m(single_val) \u001b[38;5;241m==\u001b[39m \u001b[38;5;28mdict\u001b[39m:\n\u001b[1;32m     64\u001b[0m             dict_solve(single_val)\n\u001b[0;32m---> 67\u001b[0m dict_solve(\u001b[43ms1\u001b[49m)\n",
      "\u001b[0;31mNameError\u001b[0m: name 's1' is not defined"
     ]
    }
   ],
   "source": [
    "def dict_solve(s1):\n",
    "    #SET\n",
    "    def set_solve(set1):\n",
    "        for item_s in set1:\n",
    "            if type(item_s) == str:\n",
    "                print(item_s)\n",
    "            if type(item_s) == tuple:\n",
    "                list_solve(item_s)\n",
    "    #LIST\n",
    "    def list_solve(list1):\n",
    "        for item_l in list1:\n",
    "            if type(item_l) == str:\n",
    "                print(item_l)\n",
    "            if type(item_l) == set:\n",
    "                set_solve(item_l)\n",
    "            if type(item_l) == list:\n",
    "                list_solve(item_l)\n",
    "            if type(item_l) == dict:\n",
    "                dict_solve(item_l)\n",
    "            if type(item_l) == tuple:\n",
    "                list_solve(item_l)\n",
    "    \n",
    "# Solving Keys\n",
    "    for single_key in s1:\n",
    "        if type(single_key) == str:\n",
    "            print(single_key)\n",
    "        if type(single_key) == tuple:\n",
    "            for single_item in single_key:\n",
    "                if type(single_item) == str:\n",
    "                    print(single_item)\n",
    "\n",
    "# Solving Values\n",
    "    for single_val in s1.values():\n",
    "        if type(single_val) == str:\n",
    "            print(single_val)\n",
    "        if type(single_val) == set:\n",
    "            set_solve(single_val)\n",
    "        if type(single_val) == list:\n",
    "            list_solve(single_val)\n",
    "        if type(single_val) == tuple:\n",
    "            tuple_solve(single_val)\n",
    "        if type(single_val) == dict:\n",
    "            dict_solve(single_val)\n",
    "    \n",
    "s1={34:[4,False,6,{4,'geller',6,7,(5,'two',7),567,(6,7,8,9,90)},\n",
    "        [({4,('5',),6},{3:45,'lopez':('python',['ajsj'],'sdf'),7.8:7.8,7.8:56})]],'ace':78,'python2':'java',('py','to'):'re'}\n",
    "\n",
    "dict_solve(s1)"
   ]
  }
 ],
 "metadata": {
  "kernelspec": {
   "display_name": "Python 3 (ipykernel)",
   "language": "python",
   "name": "python3"
  },
  "language_info": {
   "codemirror_mode": {
    "name": "ipython",
    "version": 3
   },
   "file_extension": ".py",
   "mimetype": "text/x-python",
   "name": "python",
   "nbconvert_exporter": "python",
   "pygments_lexer": "ipython3",
   "version": "3.10.5"
  }
 },
 "nbformat": 4,
 "nbformat_minor": 5
}
