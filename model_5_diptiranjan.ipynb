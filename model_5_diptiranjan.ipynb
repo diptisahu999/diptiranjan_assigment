{
 "cells": [
  {
   "cell_type": "code",
   "execution_count": null,
   "id": "83df01a6",
   "metadata": {},
   "outputs": [],
   "source": [
    "# Why Django should be used for web-development? Explain how you can create a project in Django?\n",
    "# Django is the best framework for web applications, as it allows developers to use modules for faster development.\n",
    "# As a developer,you can make use of these modules to create apps, websites from an existing source"
   ]
  },
  {
   "cell_type": "code",
   "execution_count": null,
   "id": "066f8de0",
   "metadata": {},
   "outputs": [],
   "source": [
    "# How to check installed version of django?\n",
    "# django-admin --version"
   ]
  },
  {
   "cell_type": "code",
   "execution_count": null,
   "id": "bb774c71",
   "metadata": {},
   "outputs": [],
   "source": [
    "# Mention what command line can be used to load data into Django?\n",
    "# django-admin.py loaddata"
   ]
  },
  {
   "cell_type": "code",
   "execution_count": null,
   "id": "da8bc66e",
   "metadata": {},
   "outputs": [],
   "source": [
    "# Explain what does django-admin.py make messages command is used for?\n",
    "# creates (or updates) a message file in the conf/locale (in the Django tree) or locale (for project and application) director."
   ]
  },
  {
   "cell_type": "code",
   "execution_count": null,
   "id": "88416dfb",
   "metadata": {},
   "outputs": [],
   "source": [
    "# What is .Django URLs?make program to create django urls.\n",
    "# A URL is a web address. You can see a URL every time you visit a website – it is visible in your browser's address bar.\n",
    "# To design URLs for an app, you create a Python module informally called a URLconf (URL configuration)."
   ]
  },
  {
   "cell_type": "code",
   "execution_count": null,
   "id": "cbd38b86",
   "metadata": {},
   "outputs": [],
   "source": [
    "# What is a QuerySet?Write program to create a new Post object in database:\n",
    "# A queryset is simply a list of objects from the Django Models. When using the Django ORM creating a new row in the table\n",
    "# is simply like creating a new object of Model class. Django ORM maps these Model objects to Relational database query.\n",
    "# Any SQL query can be written easily as Django queryset."
   ]
  },
  {
   "cell_type": "code",
   "execution_count": null,
   "id": "e197e21d",
   "metadata": {},
   "outputs": [],
   "source": [
    "# Mention what command line can be used to load data into Django?\n",
    "#  To load data into Django you have to use the command line Django-admin.py loaddata."
   ]
  },
  {
   "cell_type": "code",
   "execution_count": null,
   "id": "bd716466",
   "metadata": {},
   "outputs": [],
   "source": [
    "# Explain what does django-admin.py make messages command is used for?\n",
    "# creates (or updates) a message file in the conf/locale (in the Django tree) or locale (for project and application) director."
   ]
  }
 ],
 "metadata": {
  "kernelspec": {
   "display_name": "Python 3 (ipykernel)",
   "language": "python",
   "name": "python3"
  },
  "language_info": {
   "codemirror_mode": {
    "name": "ipython",
    "version": 3
   },
   "file_extension": ".py",
   "mimetype": "text/x-python",
   "name": "python",
   "nbconvert_exporter": "python",
   "pygments_lexer": "ipython3",
   "version": "3.9.12"
  }
 },
 "nbformat": 4,
 "nbformat_minor": 5
}
