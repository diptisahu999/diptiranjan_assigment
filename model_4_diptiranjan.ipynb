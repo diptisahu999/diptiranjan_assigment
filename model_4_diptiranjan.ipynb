{
 "cells": [
  {
   "cell_type": "code",
   "execution_count": null,
   "id": "5077e35a",
   "metadata": {},
   "outputs": [],
   "source": [
    "# What is File function in python? What is keywords to create and write file ?\n",
    "# file function: This function returns a file object, also called a handle, as it is used to read or \n",
    "# modify the file accordingly.We can specify the mode while opening a file.\n",
    "# create:-  'x'\n",
    "# write:-  'w'"
   ]
  },
  {
   "cell_type": "code",
   "execution_count": null,
   "id": "ea9945d2",
   "metadata": {},
   "outputs": [],
   "source": [
    "# Write a Python program to read an entire text file.\n",
    "# file_name=open('diptiranjan.txt','x')\n",
    "# file_name.write('my name is something\\nnothing is white nothing is black every thing is grey')\n",
    "# file_name.close()\n",
    "file_name=open('diptiranjan.txt','r')\n",
    "read_the_file=file_name.read()\n",
    "print(read_the_file)"
   ]
  },
  {
   "cell_type": "code",
   "execution_count": null,
   "id": "1b5923fa",
   "metadata": {},
   "outputs": [],
   "source": [
    "# Write a Python program to append text to a file and display the text.\n",
    "#file_name=open('diptiranjan.txt','a')\n",
    "#file_name.write('\\nmy name is diptiranjan')    # append the text\n",
    "#file_name.close()\n",
    "file_name=open('diptiranjan.txt','r')\n",
    "read_the_file=file_name.read()\n",
    "print(read_the_file)"
   ]
  },
  {
   "cell_type": "code",
   "execution_count": null,
   "id": "058fcc79",
   "metadata": {},
   "outputs": [],
   "source": [
    "# Write a Python program to append text to a file and display the text.\n",
    "def file_read(fname):\n",
    "        with open(fname, 'w') as file_name:\n",
    "                file_name.write('Python program\\n')\n",
    "                file_name.write('Javascript\\n')\n",
    "                file_name.write('programming language')\n",
    "        txt = open(fname)\n",
    "        print(txt.read())\n",
    "file_read('abc.txt')"
   ]
  },
  {
   "cell_type": "code",
   "execution_count": null,
   "id": "fd6ac75a",
   "metadata": {},
   "outputs": [],
   "source": [
    "# Write a Python program to read first n lines of a file.\n",
    "n=int(input('enter the line to read  :  '))\n",
    "file_name=open('diptiranjan.txt','r')\n",
    "for i in range(n):\n",
    "    read_the_file=file_name.readline()\n",
    "    print(read_the_file)"
   ]
  },
  {
   "cell_type": "code",
   "execution_count": null,
   "id": "7c1108ea",
   "metadata": {},
   "outputs": [],
   "source": [
    "# Write a Python program to read first n lines of a file.\n",
    "n = int(input('Enter Lines To Read : '))\n",
    "file_name = open('diptiranjan.txt','r')\n",
    "for i in range(n):\n",
    "    print(file_name.readline())"
   ]
  },
  {
   "cell_type": "code",
   "execution_count": null,
   "id": "95a4a2aa",
   "metadata": {},
   "outputs": [],
   "source": [
    "# Write a Python program to read last n lines of a file.\n",
    "def lastname(fname,n):\n",
    "    with open('diptiranjan.txt') as file:\n",
    "        for line in (file.readlines()):\n",
    "            print(line, end ='')\n",
    "lastname('diptiranjan.txt',3)"
   ]
  },
  {
   "cell_type": "code",
   "execution_count": null,
   "id": "edc8b0a7",
   "metadata": {},
   "outputs": [],
   "source": [
    "# Write a Python program to read last n lines of a file.\n",
    "n=int(input('enter the line read  :  '))\n",
    "file_name=open('diptiranjan.txt','r')\n",
    "for i in range(n):\n",
    "    read_the_file=file_name.readline()\n",
    "print(read_the_file)"
   ]
  },
  {
   "cell_type": "code",
   "execution_count": null,
   "id": "6c145dbe",
   "metadata": {},
   "outputs": [],
   "source": [
    "# Write a Python program to read last n lines of a file.\n",
    "def lastname(fname, n):\n",
    "    file= open('diptiranjan.txt','r')\n",
    "    for line in (file.readlines()):\n",
    "            print(line, end ='')\n",
    "lastname('diptiranjan.txt',3)"
   ]
  },
  {
   "cell_type": "code",
   "execution_count": null,
   "id": "a21ea669",
   "metadata": {},
   "outputs": [],
   "source": [
    "# Write a Python program to read a file line by line and store it into a list,\n",
    "list1=[]\n",
    "def lastname(fname, N):\n",
    "    file=open('diptiranjan.txt','r')\n",
    "    for line in (file.readlines()):\n",
    "        list1.append(line)\n",
    "lastname('diptiranjan.txt',-3)\n",
    "print(list1)"
   ]
  },
  {
   "cell_type": "code",
   "execution_count": null,
   "id": "c6677aef",
   "metadata": {},
   "outputs": [],
   "source": [
    "# Write a Python program to read a file line by line and store it into a list,\n",
    "list1=[]\n",
    "def lastname(fname, N):\n",
    "    with open('diptiranjan.txt') as file:\n",
    "        for line in (file.readlines()):\n",
    "            list1.append(line)\n",
    "lastname('diptiranjan.txt',-3)\n",
    "print(list1)"
   ]
  },
  {
   "cell_type": "code",
   "execution_count": null,
   "id": "5c6028b0",
   "metadata": {},
   "outputs": [],
   "source": [
    "# Write a Python program to read a file line by line store it into a variable.\n",
    "n=int(input('enter the line to read  :  '))\n",
    "file_name=open('diptiranjan.txt','r')\n",
    "for i in range(n):\n",
    "    read_the_file=file_name.readline()\n",
    "    print(read_the_file)"
   ]
  },
  {
   "cell_type": "code",
   "execution_count": null,
   "id": "3f2aca3f",
   "metadata": {},
   "outputs": [],
   "source": [
    "# Write a python program to find the longest words.\n",
    "s=input('plese enter the string: ')\n",
    "l=list(s.split(' '))\n",
    "lon=sorted(l,key=len)\n",
    "print(lon[-1])"
   ]
  },
  {
   "cell_type": "code",
   "execution_count": null,
   "id": "90e25177",
   "metadata": {},
   "outputs": [],
   "source": [
    "# Write a python program to find the longest words.\n",
    "# string=input('plese enter the string: ')\n",
    "def longestWord(s):\n",
    "    lon = sorted(s, key = len)\n",
    "    print(lon[-1])\n",
    "s = input('enter the string : ')\n",
    "l = list(s.split(' '))\n",
    "longestWord(l)"
   ]
  },
  {
   "cell_type": "code",
   "execution_count": null,
   "id": "ba805fea",
   "metadata": {},
   "outputs": [],
   "source": [
    "# Write a python program to find the longest words.\n",
    "file_name=open('diptiranjan.txt','r')\n",
    "str=file_name.read()\n",
    "words=str.split()\n",
    "lon_len=len(max(words,key=len))\n",
    "for i in words:\n",
    "    if len(i)==lon_len:\n",
    "        longest_word=i\n",
    "print(str)\n",
    "print('\\nlongest words of the files : ',longest_word)"
   ]
  },
  {
   "cell_type": "code",
   "execution_count": null,
   "id": "165d9bfe",
   "metadata": {},
   "outputs": [],
   "source": [
    "# Write a Python program to count the number of lines in a text file.\n",
    "file_name=open('diptiranjan.txt','r')\n",
    "read_the_file=len(file_name.readlines())\n",
    "print(read_the_file)"
   ]
  },
  {
   "cell_type": "code",
   "execution_count": null,
   "id": "343907c6",
   "metadata": {},
   "outputs": [],
   "source": [
    "# Write a Python program to count the frequency of words in a file.\n",
    "file_name=open('diptiranjan.txt','r')\n",
    "read_the_file=str(file_name.readlines())\n",
    "w=read_the_file.split(' ')\n",
    "print(read_the_file)\n",
    "print('the number of words = %s'%len(w))"
   ]
  },
  {
   "cell_type": "code",
   "execution_count": null,
   "id": "a353c5b2",
   "metadata": {},
   "outputs": [],
   "source": [
    "# Write a Python program to write a list to a file.\n",
    "file_name=open('diptiranjan.txt','w')\n",
    "subject=['math','\\nscience','\\nzeology','\\npython']\n",
    "for sub in subject:\n",
    "    file_name.write(sub)\n",
    "file_name.close()"
   ]
  },
  {
   "cell_type": "code",
   "execution_count": null,
   "id": "58edf5f4",
   "metadata": {},
   "outputs": [],
   "source": [
    "# Write a Python program to copy the contents of a file to another file.\n",
    "file1=open('diptiranjan.txt','r')\n",
    "file2=open('abc.txt','w')\n",
    "for i in file1:\n",
    "    file2.write(i)\n",
    "file2.close()"
   ]
  },
  {
   "cell_type": "code",
   "execution_count": null,
   "id": "19761c03",
   "metadata": {},
   "outputs": [],
   "source": [
    "# Explain Exception handling? What is an Error in Python?\n",
    "# An Exception is an error that happens during the execution of a program.\n",
    "# Whenever there is an error, Python generates an exception that could be handled. \n",
    "# It basically prevents the program from getting crashed.\n",
    "\n",
    "# What is an Error in Python ?\n",
    "# Python program is when a certain statement is not in accordance with the prescribed usage.\n",
    "# Such an error is called a syntax error.The Python interpreter immediately reports it,\n",
    "#usually along with the reason. Example: Error."
   ]
  },
  {
   "cell_type": "code",
   "execution_count": null,
   "id": "db5742c6",
   "metadata": {},
   "outputs": [],
   "source": [
    "# How many except statements can a try-except block have? Name Some built-in exception classes.\n",
    "# You can have multiple try blocks in a program but only one except statement with each try block. \n",
    "# If you want to catch multiple errors, just write.\n",
    "\n",
    "\n",
    "# Name Some built-in exception classes:- KeyError, IndexError, NameError, IndentationError, ImportError, Exception,\n",
    "# OverflowError,SyntaxErr, TypeError"
   ]
  },
  {
   "cell_type": "code",
   "execution_count": null,
   "id": "4cce0bc6",
   "metadata": {},
   "outputs": [],
   "source": [
    "# When will the else part of try-except-else be executed?\n",
    "# The else part is executed when no exception occurs."
   ]
  },
  {
   "cell_type": "code",
   "execution_count": null,
   "id": "2a3cc78d",
   "metadata": {},
   "outputs": [],
   "source": [
    "# Can one block of except statements handle multiple exception?\n",
    "# yes\n",
    "try:\n",
    "    a=12\n",
    "    b=int(input())\n",
    "    d=a/b\n",
    "    print(d)\n",
    "    print('insite try')\n",
    "except:\n",
    "    print('value error')"
   ]
  },
  {
   "cell_type": "code",
   "execution_count": null,
   "id": "c51f85d5",
   "metadata": {},
   "outputs": [],
   "source": [
    "# When is the finally block executed?\n",
    "# The finally block always executes when the try block exits. This ensures that the finally block is executed even\n",
    "# if an unexpected exception occurs."
   ]
  },
  {
   "cell_type": "code",
   "execution_count": null,
   "id": "fadede66",
   "metadata": {},
   "outputs": [],
   "source": [
    "# What happens when \"1\"== 1 is executed?\n",
    "# then it will be return 'false' because (==) is comparison operators it can be check two side value are same or not"
   ]
  },
  {
   "cell_type": "code",
   "execution_count": 1,
   "id": "f0b7460e",
   "metadata": {},
   "outputs": [
    {
     "data": {
      "text/plain": [
       "False"
      ]
     },
     "execution_count": 1,
     "metadata": {},
     "output_type": "execute_result"
    }
   ],
   "source": [
    "\"1\" == 1"
   ]
  },
  {
   "cell_type": "code",
   "execution_count": null,
   "id": "8b116d4d",
   "metadata": {},
   "outputs": [],
   "source": [
    "# How Do You Handle Exceptions With Try/Except/Finally In Python? Explain with coding snippets.\n",
    "try:\n",
    "    a=12\n",
    "    b=int(input())\n",
    "    d=a/b\n",
    "    print(d)\n",
    "    print('insite try')\n",
    "except ValueError:\n",
    "    print('value error')\n",
    "except ZeroDivisionError:\n",
    "    print('zero division are not allow')\n",
    "else:\n",
    "    print('inside else')\n",
    "finally:\n",
    "    print('inside finally')\n",
    "print('rest of the code')"
   ]
  },
  {
   "cell_type": "code",
   "execution_count": null,
   "id": "2a39e355",
   "metadata": {},
   "outputs": [],
   "source": [
    "# Write python program that user to enter only odd numbers, else will raise an exception.\n",
    "class DepError(Exception):\n",
    "    pass\n",
    "a=int(input())\n",
    "if a%2==0:\n",
    "    raise DepError('you enter greater zero')\n",
    "else:\n",
    "    print('well n is good')"
   ]
  },
  {
   "cell_type": "code",
   "execution_count": null,
   "id": "06e08dd2",
   "metadata": {},
   "outputs": [],
   "source": [
    "# What are oops concepts? Is multiple inheritance supported in java.\n",
    "# OOP (object-oriented programming) concepts in Python include Class, Object, Method, Inheritance,Polymorphism, \n",
    "# Abstraction, and Encapsulation.\n",
    "\n",
    "# multiple inheritance:Inheritance relationship defines the classes that inherit from other classes as derived class,\n",
    "# or sub-type classes or child classes\n",
    "# types of inheritance:\n",
    "# 1. single inheritance\n",
    "# 2. multiple inheritance\n",
    "# 3. multilevel inheritance\n",
    "# 4. Hierarchical Inheritance.\n",
    "# 5. Hybrid inheritance"
   ]
  },
  {
   "cell_type": "code",
   "execution_count": null,
   "id": "429e63c9",
   "metadata": {},
   "outputs": [],
   "source": [
    "# How to Define a Class in Python? What Is Self? Give An Example Of A python Class.\n",
    "# 'class' key word can be define the class.\n",
    "# self:- The self parameter is a reference to the current instance of the class,\n",
    "# and is used to access variables that belongs to the class.\n",
    "class A:\n",
    "    sub='math'\n",
    "    def __init__(self,subject,marks):\n",
    "        self.subject=subject\n",
    "        self.marks=marks\n",
    "    def some(self):\n",
    "        print('something try it')\n",
    "obj1=A('science',98)\n",
    "obj1.marks\n",
    "obj1.some()      "
   ]
  },
  {
   "cell_type": "code",
   "execution_count": null,
   "id": "cbe3f12d",
   "metadata": {},
   "outputs": [],
   "source": [
    "# Write a Python class named Rectangle constructed by a length and width and a method which will compute the area of a rectangle\n",
    "class Rectangle():\n",
    "    def __init__(self,length,width):\n",
    "        self.length=length\n",
    "        self.width=width\n",
    "    def Area(self):\n",
    "        a=self.length*self.width\n",
    "        print('area : ',a)\n",
    "\n",
    "obj2=Rectangle(12,32)\n",
    "obj2.Area()"
   ]
  },
  {
   "cell_type": "code",
   "execution_count": null,
   "id": "a4a9f2ed",
   "metadata": {},
   "outputs": [],
   "source": [
    "# Write a Python class named Circle constructed by a radius and two methods which will \n",
    "# compute the area and the perimeter of a circle.\n",
    "from math import pi\n",
    "class Circle():\n",
    "    def __init__(self,radius):\n",
    "        self.radius=radius\n",
    "    \n",
    "    def Area(self):\n",
    "        area=self.radius**2*pi\n",
    "        print('area of circle : ',area)\n",
    "        \n",
    "        \n",
    "    def Perimeter(self):\n",
    "        print('perimeter of circle : ',2*self.radius*pi)\n",
    "obj2=Circle(12)\n",
    "obj2.Area()\n",
    "obj2.Perimeter()"
   ]
  },
  {
   "cell_type": "code",
   "execution_count": null,
   "id": "41549b08",
   "metadata": {},
   "outputs": [],
   "source": [
    "# Explain Inheritance in Python with an example? What is init? Or What Is A Constructor In Python?\n",
    "# inheritance: Inheritance relationship defines the classes that inherit from other classes as derived class,\n",
    "# subclass, or sub-type classes.\n",
    "# example:  For example, you have a Base class of “Animal” and a “Lion” is a Derived class.\n",
    "# The inheritance will be Lion is an Animal.\n",
    "#  For example, you have a Base class of “human” and a “male” is a Derived class.\n",
    "# The inheritance will be male is an human.\n",
    "# what is init: The __init__ function is called every time an object is created from a class. \n",
    "# The __init__ method lets the class initialize the object's attributes and serves no other purpose.\n",
    "# It is only used within classes.\n",
    "\n",
    "# What Is A Constructor In Python?\n",
    "# A constructor is a special type of method (function) which is used to initialize the instance members of the class.\n",
    "# exam:__init__(function)"
   ]
  },
  {
   "cell_type": "code",
   "execution_count": null,
   "id": "508c885a",
   "metadata": {},
   "outputs": [],
   "source": [
    "# What is Instantiation in terms of OOP terminology?\n",
    "# the instantiation describes the processes of creating a new object for a class using a new keyword.(isinstance)"
   ]
  },
  {
   "cell_type": "code",
   "execution_count": null,
   "id": "3464a7cf",
   "metadata": {},
   "outputs": [],
   "source": [
    "# What is used to check whether an object o is an instance of class A.\n",
    "class A:\n",
    "    pass\n",
    "\n",
    "j = A()\n",
    "class B:\n",
    "    pass\n",
    "\n",
    "h = B()\n",
    "isinstance(h,A)"
   ]
  }
 ],
 "metadata": {
  "kernelspec": {
   "display_name": "Python 3 (ipykernel)",
   "language": "python",
   "name": "python3"
  },
  "language_info": {
   "codemirror_mode": {
    "name": "ipython",
    "version": 3
   },
   "file_extension": ".py",
   "mimetype": "text/x-python",
   "name": "python",
   "nbconvert_exporter": "python",
   "pygments_lexer": "ipython3",
   "version": "3.9.12"
  }
 },
 "nbformat": 4,
 "nbformat_minor": 5
}
