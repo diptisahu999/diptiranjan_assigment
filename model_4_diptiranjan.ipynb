{
 "cells": [
  {
   "cell_type": "code",
   "execution_count": null,
   "id": "8088af5c",
   "metadata": {},
   "outputs": [],
   "source": [
    "# What is File function in python? What is keywords to create and write file ?\n",
    "# file function: This function returns a file object, also called a handle, as it is used to read or \n",
    "# modify the file accordingly.We can specify the mode while opening a file.\n",
    "# create:-  'x'\n",
    "# write:-  'w'"
   ]
  },
  {
   "cell_type": "code",
   "execution_count": null,
   "id": "dfd6b9e5",
   "metadata": {},
   "outputs": [],
   "source": [
    "# Write a Python program to read an entire text file.\n",
    "# file_name=open('diptiranjan.txt','x')\n",
    "# file_name.write('my name is something\\nnothing is white nothing is black every thing is grey')\n",
    "# file_name.close()\n",
    "file_name=open('diptiranjan.txt','r')\n",
    "read_the_file=file_name.read()\n",
    "print(read_the_file)"
   ]
  },
  {
   "cell_type": "code",
   "execution_count": null,
   "id": "0db89a80",
   "metadata": {},
   "outputs": [],
   "source": [
    "# Write a Python program to append text to a file and display the text.\n",
    "#file_name=open('diptiranjan.txt','a')\n",
    "#file_name.write('\\nmy name is diptiranjan')    # append the text\n",
    "#file_name.close()\n",
    "file_name=open('diptiranjan.txt','r')\n",
    "read_the_file=file_name.read()\n",
    "print(read_the_file)"
   ]
  },
  {
   "cell_type": "code",
   "execution_count": null,
   "id": "6819f1af",
   "metadata": {},
   "outputs": [],
   "source": [
    "# Write a Python program to append text to a file and display the text.\n",
    "def file_read(fname):\n",
    "        from itertools import islice\n",
    "        with open(fname, \"w\") as myfile:\n",
    "                myfile.write(\"Python Exercises\\n\")\n",
    "                myfile.write(\"Java Exercises\")\n",
    "        txt = open(fname)\n",
    "        print(txt.read())\n",
    "file_read('abc.txt')"
   ]
  },
  {
   "cell_type": "code",
   "execution_count": null,
   "id": "b7061484",
   "metadata": {},
   "outputs": [],
   "source": [
    "# Write a Python program to read first n lines of a file.\n",
    "file_name=open('diptiranjan.txt','r')\n",
    "read_the_file=file_name.readline()\n",
    "print(read_the_file)"
   ]
  },
  {
   "cell_type": "code",
   "execution_count": null,
   "id": "911b1ec9",
   "metadata": {},
   "outputs": [],
   "source": [
    "# Write a Python program to read last n lines of a file.\n",
    "def lastname(fname, N):\n",
    "    with open('diptiranjan.txt') as file:\n",
    "         \n",
    "        # loop to read iterate\n",
    "        # last n lines and print it\n",
    "        for line in (file.readlines()):\n",
    "            print(line, end ='')\n",
    "lastname('diptiranjan.txt',-3)"
   ]
  },
  {
   "cell_type": "code",
   "execution_count": null,
   "id": "8b547270",
   "metadata": {},
   "outputs": [],
   "source": [
    "# Write a Python program to read a file line by line and store it into a list,\n",
    "list1=[]\n",
    "def lastname(fname, N):\n",
    "    with open('diptiranjan.txt') as file:\n",
    "         # loop to read iterate\n",
    "         # last n lines and print it\n",
    "        for line in (file.readlines()):\n",
    "            list1.append(line)\n",
    "lastname('diptiranjan.txt',-3)\n",
    "print(list1)"
   ]
  },
  {
   "cell_type": "code",
   "execution_count": null,
   "id": "00b57eb8",
   "metadata": {},
   "outputs": [],
   "source": [
    "# Write a Python program to read a file line by line store it into a variable.\n",
    "variable=[]\n",
    "def lastname(fname, N):\n",
    "    with open('diptiranjan.txt') as file:\n",
    "         # loop to read iterate\n",
    "         # last n lines and print it\n",
    "        for line in (file.readlines()):\n",
    "            variable.append(line)\n",
    "lastname('diptiranjan.txt',-3)\n",
    "print(variable)"
   ]
  },
  {
   "cell_type": "code",
   "execution_count": null,
   "id": "24c726c8",
   "metadata": {},
   "outputs": [],
   "source": [
    "# Write a python program to find the longest words.\n",
    "string=input('plese enter the string: ')\n",
    "w=sorted(string,key=len)\n",
    "w=list(string.split(' '))\n",
    "print(w[-1])"
   ]
  },
  {
   "cell_type": "code",
   "execution_count": null,
   "id": "05345ebc",
   "metadata": {},
   "outputs": [],
   "source": [
    "# Write a python program to find the longest words.\n",
    "def largestWord(string):\n",
    "    string = sorted(s, key = len)\n",
    "    print(string[-1])\n",
    "string=input('plese enter the string: ')\n",
    "l = list(s.split(\" \"))\n",
    "largestWord(l)"
   ]
  },
  {
   "cell_type": "code",
   "execution_count": null,
   "id": "16a26598",
   "metadata": {},
   "outputs": [],
   "source": [
    "# Write a Python program to count the number of lines in a text file.\n",
    "file_name=open('diptiranjan.txt','r')\n",
    "read_the_file=len(file_name.readlines())\n",
    "print(read_the_file)"
   ]
  },
  {
   "cell_type": "code",
   "execution_count": 7,
   "id": "f227af93",
   "metadata": {},
   "outputs": [
    {
     "name": "stdout",
     "output_type": "stream",
     "text": [
      "['my name is something\\n', 'nothing is white nothing is black every thing is grey\\n', 'my name is diptiranjan']\n",
      "the number of words = 18\n"
     ]
    }
   ],
   "source": [
    "# Write a Python program to count the frequency of words in a file.\n",
    "file_name=open('diptiranjan.txt','r')\n",
    "read_the_file=str(file_name.readlines())\n",
    "w=read_the_file.split(' ')\n",
    "print(read_the_file)\n",
    "print('the number of words = %s'%len(w))"
   ]
  },
  {
   "cell_type": "code",
   "execution_count": null,
   "id": "891625ce",
   "metadata": {},
   "outputs": [],
   "source": [
    "# Write a Python program to write a list to a file."
   ]
  }
 ],
 "metadata": {
  "kernelspec": {
   "display_name": "Python 3 (ipykernel)",
   "language": "python",
   "name": "python3"
  },
  "language_info": {
   "codemirror_mode": {
    "name": "ipython",
    "version": 3
   },
   "file_extension": ".py",
   "mimetype": "text/x-python",
   "name": "python",
   "nbconvert_exporter": "python",
   "pygments_lexer": "ipython3",
   "version": "3.9.12"
  }
 },
 "nbformat": 4,
 "nbformat_minor": 5
}
